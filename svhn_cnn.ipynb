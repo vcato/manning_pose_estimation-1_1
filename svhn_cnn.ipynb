{
  "nbformat": 4,
  "nbformat_minor": 0,
  "metadata": {
    "colab": {
      "name": "svhn_cnn.ipynb",
      "provenance": [],
      "collapsed_sections": []
    },
    "kernelspec": {
      "name": "python3",
      "display_name": "Python 3"
    },
    "accelerator": "GPU"
  },
  "cells": [
    {
      "cell_type": "code",
      "metadata": {
        "id": "ne8-VuEF5Kza",
        "colab_type": "code",
        "colab": {
          "base_uri": "https://localhost:8080/",
          "height": 399
        },
        "outputId": "d72b6a1d-bd17-422f-c845-2da2679f0eb4"
      },
      "source": [
        "!wget http://ufldl.stanford.edu/housenumbers/train_32x32.mat\n",
        "!wget http://ufldl.stanford.edu/housenumbers/test_32x32.mat"
      ],
      "execution_count": 1,
      "outputs": [
        {
          "output_type": "stream",
          "text": [
            "--2020-05-10 14:03:29--  http://ufldl.stanford.edu/housenumbers/train_32x32.mat\n",
            "Resolving ufldl.stanford.edu (ufldl.stanford.edu)... 171.64.68.10\n",
            "Connecting to ufldl.stanford.edu (ufldl.stanford.edu)|171.64.68.10|:80... connected.\n",
            "HTTP request sent, awaiting response... 200 OK\n",
            "Length: 182040794 (174M) [text/plain]\n",
            "Saving to: ‘train_32x32.mat’\n",
            "\n",
            "train_32x32.mat     100%[===================>] 173.61M  19.8MB/s    in 11s     \n",
            "\n",
            "2020-05-10 14:03:41 (15.3 MB/s) - ‘train_32x32.mat’ saved [182040794/182040794]\n",
            "\n",
            "--2020-05-10 14:03:41--  http://ufldl.stanford.edu/housenumbers/test_32x32.mat\n",
            "Resolving ufldl.stanford.edu (ufldl.stanford.edu)... 171.64.68.10\n",
            "Connecting to ufldl.stanford.edu (ufldl.stanford.edu)|171.64.68.10|:80... connected.\n",
            "HTTP request sent, awaiting response... 200 OK\n",
            "Length: 64275384 (61M) [text/plain]\n",
            "Saving to: ‘test_32x32.mat’\n",
            "\n",
            "test_32x32.mat      100%[===================>]  61.30M  15.2MB/s    in 5.9s    \n",
            "\n",
            "2020-05-10 14:03:48 (10.4 MB/s) - ‘test_32x32.mat’ saved [64275384/64275384]\n",
            "\n"
          ],
          "name": "stdout"
        }
      ]
    },
    {
      "cell_type": "code",
      "metadata": {
        "id": "C8thOShA5eD1",
        "colab_type": "code",
        "colab": {}
      },
      "source": [
        "from scipy.io import loadmat\n",
        "svhn_train = loadmat('train_32x32.mat')\n",
        "svhn_test = loadmat('test_32x32.mat')"
      ],
      "execution_count": 0,
      "outputs": []
    },
    {
      "cell_type": "code",
      "metadata": {
        "id": "0Xob6xBA6KVv",
        "colab_type": "code",
        "colab": {
          "base_uri": "https://localhost:8080/",
          "height": 318
        },
        "outputId": "d8d4e7aa-718a-4862-a19a-dad1dfec95c5"
      },
      "source": [
        "import matplotlib.pyplot as plt\n",
        "svhn_x_train = svhn_train['X']\n",
        "svhn_y_train = svhn_train['y']\n",
        "svhn_x_test = svhn_test['X']\n",
        "svhn_y_test = svhn_test['y']\n",
        "display(svhn_x_train.shape)\n",
        "display(svhn_y_train.shape)\n",
        "plt.imshow(svhn_x_test[:,:,:,0])\n",
        "display(svhn_y_train[0])\n"
      ],
      "execution_count": 77,
      "outputs": [
        {
          "output_type": "display_data",
          "data": {
            "text/plain": [
              "(32, 32, 3, 73257)"
            ]
          },
          "metadata": {
            "tags": []
          }
        },
        {
          "output_type": "display_data",
          "data": {
            "text/plain": [
              "(73257, 1)"
            ]
          },
          "metadata": {
            "tags": []
          }
        },
        {
          "output_type": "display_data",
          "data": {
            "text/plain": [
              "array([1], dtype=uint8)"
            ]
          },
          "metadata": {
            "tags": []
          }
        },
        {
          "output_type": "display_data",
          "data": {
            "image/png": "[encoded data removed]",
            "text/plain": [
              "<Figure size 432x288 with 1 Axes>"
            ]
          },
          "metadata": {
            "tags": [],
            "needs_background": "light"
          }
        }
      ]
    },
    {
      "cell_type": "code",
      "metadata": {
        "id": "horzYlVFcrbY",
        "colab_type": "code",
        "colab": {
          "base_uri": "https://localhost:8080/",
          "height": 318
        },
        "outputId": "54532976-e0ce-4086-b686-be6bd469af50"
      },
      "source": [
        "import numpy as np\n",
        "x_train = svhn_x_train\n",
        "x_test = svhn_x_test\n",
        "y_test = svhn_y_test\n",
        "x_train = x_train.astype('float32')/255\n",
        "x_test = x_test.astype('float32')/255\n",
        "mean = np.mean(x_train,axis=(0,1,2,3))\n",
        "std = np.std(x_train,axis=(0,1,2,3))\n",
        "x_train = (x_train-mean)/(std+1e-7)\n",
        "x_test = (x_test-mean)/(std+1e-7)\n",
        "x_train = np.moveaxis(x_train, 3, 0)\n",
        "x_test = np.moveaxis(x_test, 3, 0)\n",
        "display(x_train.shape)\n",
        "plt.imshow(x_train[0]+1)"
      ],
      "execution_count": 50,
      "outputs": [
        {
          "output_type": "display_data",
          "data": {
            "text/plain": [
              "(73257, 32, 32, 3)"
            ]
          },
          "metadata": {
            "tags": []
          }
        },
        {
          "output_type": "stream",
          "text": [
            "Clipping input data to the valid range for imshow with RGB data ([0..1] for floats or [0..255] for integers).\n"
          ],
          "name": "stderr"
        },
        {
          "output_type": "execute_result",
          "data": {
            "text/plain": [
              "<matplotlib.image.AxesImage at 0x7fecea2f7c88>"
            ]
          },
          "metadata": {
            "tags": []
          },
          "execution_count": 50
        },
        {
          "output_type": "display_data",
          "data": {
            "image/png": "[encoded data removed]",
            "text/plain": [
              "<Figure size 432x288 with 1 Axes>"
            ]
          },
          "metadata": {
            "tags": [],
            "needs_background": "light"
          }
        }
      ]
    },
    {
      "cell_type": "code",
      "metadata": {
        "id": "DdomrpL7Zscr",
        "colab_type": "code",
        "colab": {
          "base_uri": "https://localhost:8080/",
          "height": 52
        },
        "outputId": "dd3abec2-fb1a-4565-e874-b563458865b3"
      },
      "source": [
        "import keras\n",
        "y_train = svhn_y_train[:,:]-1\n",
        "y_test = svhn_y_test[:,:]-1\n",
        "y_train_categorical = keras.utils.to_categorical(y_train)\n",
        "y_test_categorical = keras.utils.to_categorical(y_test)\n",
        "display(y_train_categorical.shape)\n",
        "display(y_test_categorical.shape)"
      ],
      "execution_count": 85,
      "outputs": [
        {
          "output_type": "display_data",
          "data": {
            "text/plain": [
              "(73257, 10)"
            ]
          },
          "metadata": {
            "tags": []
          }
        },
        {
          "output_type": "display_data",
          "data": {
            "text/plain": [
              "(26032, 10)"
            ]
          },
          "metadata": {
            "tags": []
          }
        }
      ]
    },
    {
      "cell_type": "code",
      "metadata": {
        "id": "hcPnUdwoOEye",
        "colab_type": "code",
        "outputId": "a6ff6e50-8b48-4fff-b212-7398ccccc14f",
        "colab": {
          "base_uri": "https://localhost:8080/",
          "height": 1000
        }
      },
      "source": [
        "from keras import models, layers, regularizers, optimizers\n",
        "\n",
        "def make_model1():\n",
        "  model = models.Sequential()\n",
        "  model.add(layers.Conv2D(filters=16,kernel_size=3,padding='same',activation='relu',input_shape=(32,32,3)))\n",
        "  model.add(layers.MaxPooling2D(pool_size=2))\n",
        "  model.add(layers.Conv2D(filters=32,kernel_size=3,padding='same',activation='relu'))\n",
        "  model.add(layers.MaxPooling2D(pool_size=2))\n",
        "  model.add(layers.Conv2D(filters=64,kernel_size=3,padding='same',activation='relu'))\n",
        "  model.add(layers.MaxPooling2D(pool_size=2))\n",
        "  model.add(layers.Dropout(0.3))\n",
        "  model.add(layers.Flatten())\n",
        "  model.add(layers.Dense(500,activation='relu'))\n",
        "  model.add(layers.Dropout(0.4))\n",
        "  model.add(layers.Dense(10,activation='softmax'))\n",
        "\n",
        "def make_model2():\n",
        "  base_hidden_units = 32\n",
        "  weight_decay = 1e-4\n",
        "  model = models.Sequential()\n",
        "\n",
        "  # CONV1\n",
        "  model.add(\n",
        "    layers.Conv2D(\n",
        "      base_hidden_units,\n",
        "      kernel_size=3,\n",
        "      padding='same',\n",
        "      kernel_regularizer = regularizers.l2(weight_decay),\n",
        "      input_shape=x_train.shape[1:4]\n",
        "    )\n",
        "  )\n",
        "  model.add(layers.Activation('relu'))\n",
        "  model.add(layers.BatchNormalization())\n",
        "\n",
        "  # CONV2\n",
        "  model.add(\n",
        "    layers.Conv2D(\n",
        "      base_hidden_units,\n",
        "      kernel_size=3,\n",
        "      padding='same',\n",
        "      kernel_regularizer=regularizers.l2(weight_decay)\n",
        "    )\n",
        "  )\n",
        "  model.add(layers.Activation('relu'))\n",
        "  model.add(layers.BatchNormalization())\n",
        "\n",
        "  # POOL + Dropout\n",
        "  model.add(layers.MaxPooling2D(pool_size=(2,2)))\n",
        "  model.add(layers.Dropout(0.2))\n",
        "\n",
        "  # CONV3\n",
        "  model.add(\n",
        "    layers.Conv2D(\n",
        "      base_hidden_units*2,\n",
        "      kernel_size=3,\n",
        "      padding='same',\n",
        "      kernel_regularizer=regularizers.l2(weight_decay)\n",
        "    )\n",
        "  )\n",
        "  model.add(layers.Activation('relu'))\n",
        "  model.add(layers.BatchNormalization())\n",
        "\n",
        "  # CONV4\n",
        "  model.add(\n",
        "    layers.Conv2D(\n",
        "      base_hidden_units*2,\n",
        "      kernel_size=3,\n",
        "      padding='same',\n",
        "      kernel_regularizer=regularizers.l2(weight_decay)\n",
        "    )\n",
        "  )\n",
        "  model.add(layers.Activation('relu'))\n",
        "  model.add(layers.BatchNormalization())\n",
        "\n",
        "  # POOL + Dropout\n",
        "  model.add(layers.MaxPooling2D(pool_size=(2,2)))\n",
        "  model.add(layers.Dropout(0.3))\n",
        "\n",
        "  # Conv5\n",
        "  model.add(\n",
        "    layers.Conv2D(\n",
        "      base_hidden_units*4,\n",
        "      kernel_size=3,\n",
        "      padding='same',\n",
        "      kernel_regularizer=regularizers.l2(weight_decay)\n",
        "    )\n",
        "  )\n",
        "  model.add(layers.Activation('relu'))\n",
        "  model.add(layers.BatchNormalization())\n",
        "\n",
        "  # Conv6\n",
        "  model.add(\n",
        "    layers.Conv2D(\n",
        "      base_hidden_units*4,\n",
        "      kernel_size=3,\n",
        "      padding='same',\n",
        "      kernel_regularizer=regularizers.l2(weight_decay)\n",
        "    )\n",
        "  )\n",
        "  model.add(layers.Activation('relu'))\n",
        "  model.add(layers.BatchNormalization())\n",
        "\n",
        "  model.add(layers.MaxPooling2D(pool_size=(2,2)))\n",
        "  model.add(layers.Dropout(0.3))\n",
        "\n",
        "  # layer 7: Fully Connected\n",
        "  model.add(layers.Flatten())\n",
        "  model.add(layers.Dense(10, activation='softmax'))\n",
        "  return model\n",
        "\n",
        "model = make_model2()\n",
        "display(model.summary())\n",
        "optimizer=optimizers.adam(learning_rate=0.0001, decay=1e-6)\n",
        "model.compile(loss='categorical_crossentropy',optimizer=optimizer,metrics=['accuracy'])\n",
        "\n",
        "\n"
      ],
      "execution_count": 47,
      "outputs": [
        {
          "output_type": "stream",
          "text": [
            "Model: \"sequential_5\"\n",
            "_________________________________________________________________\n",
            "Layer (type)                 Output Shape              Param #   \n",
            "=================================================================\n",
            "conv2d_18 (Conv2D)           (None, 32, 32, 32)        896       \n",
            "_________________________________________________________________\n",
            "activation_17 (Activation)   (None, 32, 32, 32)        0         \n",
            "_________________________________________________________________\n",
            "batch_normalization_17 (Batc (None, 32, 32, 32)        128       \n",
            "_________________________________________________________________\n",
            "conv2d_19 (Conv2D)           (None, 32, 32, 32)        9248      \n",
            "_________________________________________________________________\n",
            "activation_18 (Activation)   (None, 32, 32, 32)        0         \n",
            "_________________________________________________________________\n",
            "batch_normalization_18 (Batc (None, 32, 32, 32)        128       \n",
            "_________________________________________________________________\n",
            "max_pooling2d_9 (MaxPooling2 (None, 16, 16, 32)        0         \n",
            "_________________________________________________________________\n",
            "dropout_8 (Dropout)          (None, 16, 16, 32)        0         \n",
            "_________________________________________________________________\n",
            "conv2d_20 (Conv2D)           (None, 16, 16, 64)        18496     \n",
            "_________________________________________________________________\n",
            "activation_19 (Activation)   (None, 16, 16, 64)        0         \n",
            "_________________________________________________________________\n",
            "batch_normalization_19 (Batc (None, 16, 16, 64)        256       \n",
            "_________________________________________________________________\n",
            "conv2d_21 (Conv2D)           (None, 16, 16, 64)        36928     \n",
            "_________________________________________________________________\n",
            "activation_20 (Activation)   (None, 16, 16, 64)        0         \n",
            "_________________________________________________________________\n",
            "batch_normalization_20 (Batc (None, 16, 16, 64)        256       \n",
            "_________________________________________________________________\n",
            "max_pooling2d_10 (MaxPooling (None, 8, 8, 64)          0         \n",
            "_________________________________________________________________\n",
            "dropout_9 (Dropout)          (None, 8, 8, 64)          0         \n",
            "_________________________________________________________________\n",
            "conv2d_22 (Conv2D)           (None, 8, 8, 128)         73856     \n",
            "_________________________________________________________________\n",
            "activation_21 (Activation)   (None, 8, 8, 128)         0         \n",
            "_________________________________________________________________\n",
            "batch_normalization_21 (Batc (None, 8, 8, 128)         512       \n",
            "_________________________________________________________________\n",
            "conv2d_23 (Conv2D)           (None, 8, 8, 128)         147584    \n",
            "_________________________________________________________________\n",
            "activation_22 (Activation)   (None, 8, 8, 128)         0         \n",
            "_________________________________________________________________\n",
            "batch_normalization_22 (Batc (None, 8, 8, 128)         512       \n",
            "_________________________________________________________________\n",
            "max_pooling2d_11 (MaxPooling (None, 4, 4, 128)         0         \n",
            "_________________________________________________________________\n",
            "dropout_10 (Dropout)         (None, 4, 4, 128)         0         \n",
            "_________________________________________________________________\n",
            "flatten_3 (Flatten)          (None, 2048)              0         \n",
            "_________________________________________________________________\n",
            "dense_3 (Dense)              (None, 10)                20490     \n",
            "=================================================================\n",
            "Total params: 309,290\n",
            "Trainable params: 308,394\n",
            "Non-trainable params: 896\n",
            "_________________________________________________________________\n"
          ],
          "name": "stdout"
        },
        {
          "output_type": "display_data",
          "data": {
            "text/plain": [
              "None"
            ]
          },
          "metadata": {
            "tags": []
          }
        }
      ]
    },
    {
      "cell_type": "code",
      "metadata": {
        "id": "ANT-dT6FWZ0N",
        "colab_type": "code",
        "outputId": "89c21710-769b-4766-8456-72935ad7e5f9",
        "colab": {
          "base_uri": "https://localhost:8080/",
          "height": 1000
        }
      },
      "source": [
        "from keras import callbacks, preprocessing\n",
        "batch_size=128\n",
        "checkpointer=callbacks.ModelCheckpoint(filepath='model.weights.best.hdf5',verbose=1,save_best_only=True)\n",
        "n_validation_samples=5000\n",
        "display(x_train.shape[0])\n",
        "datagen = preprocessing.image.ImageDataGenerator(\n",
        "  rotation_range=15,\n",
        "  width_shift_range=0.1,\n",
        "  height_shift_range=0.1,\n",
        "  horizontal_flip=True,\n",
        "  vertical_flip=False\n",
        ")\n",
        "# compute the data augmentation on the training set\n",
        "datagen.fit(x_train)\n",
        "hist=model.fit_generator(\n",
        "    generator=datagen.flow(\n",
        "        x_train[n_validation_samples:],\n",
        "        y_train_categorical[n_validation_samples:],\n",
        "        batch_size=batch_size\n",
        "    ),\n",
        "    validation_data=(x_train[:n_validation_samples],y_train_categorical[:n_validation_samples]),\n",
        "    steps_per_epoch=(x_train.shape[0] // batch_size),\n",
        "    epochs=125,\n",
        "    callbacks=[checkpointer],\n",
        "    verbose=2\n",
        ")"
      ],
      "execution_count": 86,
      "outputs": [
        {
          "output_type": "display_data",
          "data": {
            "text/plain": [
              "73257"
            ]
          },
          "metadata": {
            "tags": []
          }
        },
        {
          "output_type": "stream",
          "text": [
            "Epoch 1/125\n",
            " - 61s - loss: 2.8494 - accuracy: 0.1987 - val_loss: 1.8235 - val_accuracy: 0.3820\n",
            "\n",
            "Epoch 00001: val_loss improved from inf to 1.82346, saving model to model.weights.best.hdf5\n",
            "Epoch 2/125\n",
            " - 53s - loss: 2.0764 - accuracy: 0.3679 - val_loss: 1.3121 - val_accuracy: 0.5738\n",
            "\n",
            "Epoch 00002: val_loss improved from 1.82346 to 1.31213, saving model to model.weights.best.hdf5\n",
            "Epoch 3/125\n",
            " - 54s - loss: 1.7054 - accuracy: 0.4692 - val_loss: 0.9873 - val_accuracy: 0.6864\n",
            "\n",
            "Epoch 00003: val_loss improved from 1.31213 to 0.98728, saving model to model.weights.best.hdf5\n",
            "Epoch 4/125\n",
            " - 53s - loss: 1.4177 - accuracy: 0.5576 - val_loss: 0.8115 - val_accuracy: 0.7566\n",
            "\n",
            "Epoch 00004: val_loss improved from 0.98728 to 0.81153, saving model to model.weights.best.hdf5\n",
            "Epoch 5/125\n",
            " - 54s - loss: 1.2112 - accuracy: 0.6190 - val_loss: 0.6658 - val_accuracy: 0.8012\n",
            "\n",
            "Epoch 00005: val_loss improved from 0.81153 to 0.66577, saving model to model.weights.best.hdf5\n",
            "Epoch 6/125\n",
            " - 54s - loss: 1.0663 - accuracy: 0.6673 - val_loss: 0.5830 - val_accuracy: 0.8286\n",
            "\n",
            "Epoch 00006: val_loss improved from 0.66577 to 0.58304, saving model to model.weights.best.hdf5\n",
            "Epoch 7/125\n",
            " - 54s - loss: 0.9554 - accuracy: 0.7007 - val_loss: 0.5280 - val_accuracy: 0.8466\n",
            "\n",
            "Epoch 00007: val_loss improved from 0.58304 to 0.52802, saving model to model.weights.best.hdf5\n",
            "Epoch 8/125\n",
            " - 54s - loss: 0.8570 - accuracy: 0.7333 - val_loss: 0.4846 - val_accuracy: 0.8624\n",
            "\n",
            "Epoch 00008: val_loss improved from 0.52802 to 0.48461, saving model to model.weights.best.hdf5\n",
            "Epoch 9/125\n",
            " - 54s - loss: 0.7837 - accuracy: 0.7579 - val_loss: 0.4567 - val_accuracy: 0.8706\n",
            "\n",
            "Epoch 00009: val_loss improved from 0.48461 to 0.45675, saving model to model.weights.best.hdf5\n",
            "Epoch 10/125\n",
            " - 54s - loss: 0.7267 - accuracy: 0.7772 - val_loss: 0.4180 - val_accuracy: 0.8810\n",
            "\n",
            "Epoch 00010: val_loss improved from 0.45675 to 0.41796, saving model to model.weights.best.hdf5\n",
            "Epoch 11/125\n",
            " - 53s - loss: 0.6833 - accuracy: 0.7906 - val_loss: 0.3914 - val_accuracy: 0.8910\n",
            "\n",
            "Epoch 00011: val_loss improved from 0.41796 to 0.39136, saving model to model.weights.best.hdf5\n",
            "Epoch 12/125\n",
            " - 53s - loss: 0.6410 - accuracy: 0.8061 - val_loss: 0.3795 - val_accuracy: 0.8986\n",
            "\n",
            "Epoch 00012: val_loss improved from 0.39136 to 0.37948, saving model to model.weights.best.hdf5\n",
            "Epoch 13/125\n",
            " - 53s - loss: 0.6145 - accuracy: 0.8159 - val_loss: 0.3749 - val_accuracy: 0.8960\n",
            "\n",
            "Epoch 00013: val_loss improved from 0.37948 to 0.37493, saving model to model.weights.best.hdf5\n",
            "Epoch 14/125\n",
            " - 52s - loss: 0.5874 - accuracy: 0.8262 - val_loss: 0.3595 - val_accuracy: 0.9014\n",
            "\n",
            "Epoch 00014: val_loss improved from 0.37493 to 0.35952, saving model to model.weights.best.hdf5\n",
            "Epoch 15/125\n",
            " - 52s - loss: 0.5632 - accuracy: 0.8343 - val_loss: 0.3395 - val_accuracy: 0.9092\n",
            "\n",
            "Epoch 00015: val_loss improved from 0.35952 to 0.33946, saving model to model.weights.best.hdf5\n",
            "Epoch 16/125\n",
            " - 52s - loss: 0.5460 - accuracy: 0.8389 - val_loss: 0.3332 - val_accuracy: 0.9106\n",
            "\n",
            "Epoch 00016: val_loss improved from 0.33946 to 0.33318, saving model to model.weights.best.hdf5\n",
            "Epoch 17/125\n",
            " - 52s - loss: 0.5241 - accuracy: 0.8463 - val_loss: 0.3242 - val_accuracy: 0.9138\n",
            "\n",
            "Epoch 00017: val_loss improved from 0.33318 to 0.32425, saving model to model.weights.best.hdf5\n",
            "Epoch 18/125\n",
            " - 52s - loss: 0.5120 - accuracy: 0.8516 - val_loss: 0.3225 - val_accuracy: 0.9132\n",
            "\n",
            "Epoch 00018: val_loss improved from 0.32425 to 0.32252, saving model to model.weights.best.hdf5\n",
            "Epoch 19/125\n",
            " - 54s - loss: 0.4951 - accuracy: 0.8563 - val_loss: 0.3204 - val_accuracy: 0.9144\n",
            "\n",
            "Epoch 00019: val_loss improved from 0.32252 to 0.32041, saving model to model.weights.best.hdf5\n",
            "Epoch 20/125\n",
            " - 53s - loss: 0.4830 - accuracy: 0.8603 - val_loss: 0.3148 - val_accuracy: 0.9152\n",
            "\n",
            "Epoch 00020: val_loss improved from 0.32041 to 0.31475, saving model to model.weights.best.hdf5\n",
            "Epoch 21/125\n",
            " - 52s - loss: 0.4757 - accuracy: 0.8633 - val_loss: 0.3050 - val_accuracy: 0.9174\n",
            "\n",
            "Epoch 00021: val_loss improved from 0.31475 to 0.30501, saving model to model.weights.best.hdf5\n",
            "Epoch 22/125\n",
            " - 52s - loss: 0.4611 - accuracy: 0.8686 - val_loss: 0.3032 - val_accuracy: 0.9222\n",
            "\n",
            "Epoch 00022: val_loss improved from 0.30501 to 0.30322, saving model to model.weights.best.hdf5\n",
            "Epoch 23/125\n",
            " - 52s - loss: 0.4555 - accuracy: 0.8705 - val_loss: 0.2998 - val_accuracy: 0.9210\n",
            "\n",
            "Epoch 00023: val_loss improved from 0.30322 to 0.29979, saving model to model.weights.best.hdf5\n",
            "Epoch 24/125\n",
            " - 53s - loss: 0.4458 - accuracy: 0.8724 - val_loss: 0.2929 - val_accuracy: 0.9256\n",
            "\n",
            "Epoch 00024: val_loss improved from 0.29979 to 0.29293, saving model to model.weights.best.hdf5\n",
            "Epoch 25/125\n",
            " - 53s - loss: 0.4327 - accuracy: 0.8774 - val_loss: 0.2932 - val_accuracy: 0.9236\n",
            "\n",
            "Epoch 00025: val_loss did not improve from 0.29293\n",
            "Epoch 26/125\n",
            " - 53s - loss: 0.4261 - accuracy: 0.8802 - val_loss: 0.2844 - val_accuracy: 0.9248\n",
            "\n",
            "Epoch 00026: val_loss improved from 0.29293 to 0.28437, saving model to model.weights.best.hdf5\n",
            "Epoch 27/125\n",
            " - 53s - loss: 0.4243 - accuracy: 0.8803 - val_loss: 0.2906 - val_accuracy: 0.9210\n",
            "\n",
            "Epoch 00027: val_loss did not improve from 0.28437\n",
            "Epoch 28/125\n",
            " - 53s - loss: 0.4135 - accuracy: 0.8834 - val_loss: 0.2846 - val_accuracy: 0.9246\n",
            "\n",
            "Epoch 00028: val_loss did not improve from 0.28437\n",
            "Epoch 29/125\n"
          ],
          "name": "stdout"
        },
        {
          "output_type": "error",
          "ename": "KeyboardInterrupt",
          "evalue": "ignored",
          "traceback": [
            "\u001b[0;31m---------------------------------------------------------------------------\u001b[0m",
            "\u001b[0;31mKeyboardInterrupt\u001b[0m                         Traceback (most recent call last)",
            "\u001b[0;32m<ipython-input-86-2495cb4ecc86>\u001b[0m in \u001b[0;36m<module>\u001b[0;34m()\u001b[0m\n\u001b[1;32m     23\u001b[0m     \u001b[0mepochs\u001b[0m\u001b[0;34m=\u001b[0m\u001b[0;36m125\u001b[0m\u001b[0;34m,\u001b[0m\u001b[0;34m\u001b[0m\u001b[0;34m\u001b[0m\u001b[0m\n\u001b[1;32m     24\u001b[0m     \u001b[0mcallbacks\u001b[0m\u001b[0;34m=\u001b[0m\u001b[0;34m[\u001b[0m\u001b[0mcheckpointer\u001b[0m\u001b[0;34m]\u001b[0m\u001b[0;34m,\u001b[0m\u001b[0;34m\u001b[0m\u001b[0;34m\u001b[0m\u001b[0m\n\u001b[0;32m---> 25\u001b[0;31m     \u001b[0mverbose\u001b[0m\u001b[0;34m=\u001b[0m\u001b[0;36m2\u001b[0m\u001b[0;34m\u001b[0m\u001b[0;34m\u001b[0m\u001b[0m\n\u001b[0m\u001b[1;32m     26\u001b[0m )\n",
            "\u001b[0;32m/usr/local/lib/python3.6/dist-packages/keras/legacy/interfaces.py\u001b[0m in \u001b[0;36mwrapper\u001b[0;34m(*args, **kwargs)\u001b[0m\n\u001b[1;32m     89\u001b[0m                 warnings.warn('Update your `' + object_name + '` call to the ' +\n\u001b[1;32m     90\u001b[0m                               'Keras 2 API: ' + signature, stacklevel=2)\n\u001b[0;32m---> 91\u001b[0;31m             \u001b[0;32mreturn\u001b[0m \u001b[0mfunc\u001b[0m\u001b[0;34m(\u001b[0m\u001b[0;34m*\u001b[0m\u001b[0margs\u001b[0m\u001b[0;34m,\u001b[0m \u001b[0;34m**\u001b[0m\u001b[0mkwargs\u001b[0m\u001b[0;34m)\u001b[0m\u001b[0;34m\u001b[0m\u001b[0;34m\u001b[0m\u001b[0m\n\u001b[0m\u001b[1;32m     92\u001b[0m         \u001b[0mwrapper\u001b[0m\u001b[0;34m.\u001b[0m\u001b[0m_original_function\u001b[0m \u001b[0;34m=\u001b[0m \u001b[0mfunc\u001b[0m\u001b[0;34m\u001b[0m\u001b[0;34m\u001b[0m\u001b[0m\n\u001b[1;32m     93\u001b[0m         \u001b[0;32mreturn\u001b[0m \u001b[0mwrapper\u001b[0m\u001b[0;34m\u001b[0m\u001b[0;34m\u001b[0m\u001b[0m\n",
            "\u001b[0;32m/usr/local/lib/python3.6/dist-packages/keras/engine/training.py\u001b[0m in \u001b[0;36mfit_generator\u001b[0;34m(self, generator, steps_per_epoch, epochs, verbose, callbacks, validation_data, validation_steps, validation_freq, class_weight, max_queue_size, workers, use_multiprocessing, shuffle, initial_epoch)\u001b[0m\n\u001b[1;32m   1730\u001b[0m             \u001b[0muse_multiprocessing\u001b[0m\u001b[0;34m=\u001b[0m\u001b[0muse_multiprocessing\u001b[0m\u001b[0;34m,\u001b[0m\u001b[0;34m\u001b[0m\u001b[0;34m\u001b[0m\u001b[0m\n\u001b[1;32m   1731\u001b[0m             \u001b[0mshuffle\u001b[0m\u001b[0;34m=\u001b[0m\u001b[0mshuffle\u001b[0m\u001b[0;34m,\u001b[0m\u001b[0;34m\u001b[0m\u001b[0;34m\u001b[0m\u001b[0m\n\u001b[0;32m-> 1732\u001b[0;31m             initial_epoch=initial_epoch)\n\u001b[0m\u001b[1;32m   1733\u001b[0m \u001b[0;34m\u001b[0m\u001b[0m\n\u001b[1;32m   1734\u001b[0m     \u001b[0;34m@\u001b[0m\u001b[0minterfaces\u001b[0m\u001b[0;34m.\u001b[0m\u001b[0mlegacy_generator_methods_support\u001b[0m\u001b[0;34m\u001b[0m\u001b[0;34m\u001b[0m\u001b[0m\n",
            "\u001b[0;32m/usr/local/lib/python3.6/dist-packages/keras/engine/training_generator.py\u001b[0m in \u001b[0;36mfit_generator\u001b[0;34m(model, generator, steps_per_epoch, epochs, verbose, callbacks, validation_data, validation_steps, validation_freq, class_weight, max_queue_size, workers, use_multiprocessing, shuffle, initial_epoch)\u001b[0m\n\u001b[1;32m    218\u001b[0m                                             \u001b[0msample_weight\u001b[0m\u001b[0;34m=\u001b[0m\u001b[0msample_weight\u001b[0m\u001b[0;34m,\u001b[0m\u001b[0;34m\u001b[0m\u001b[0;34m\u001b[0m\u001b[0m\n\u001b[1;32m    219\u001b[0m                                             \u001b[0mclass_weight\u001b[0m\u001b[0;34m=\u001b[0m\u001b[0mclass_weight\u001b[0m\u001b[0;34m,\u001b[0m\u001b[0;34m\u001b[0m\u001b[0;34m\u001b[0m\u001b[0m\n\u001b[0;32m--> 220\u001b[0;31m                                             reset_metrics=False)\n\u001b[0m\u001b[1;32m    221\u001b[0m \u001b[0;34m\u001b[0m\u001b[0m\n\u001b[1;32m    222\u001b[0m                 \u001b[0mouts\u001b[0m \u001b[0;34m=\u001b[0m \u001b[0mto_list\u001b[0m\u001b[0;34m(\u001b[0m\u001b[0mouts\u001b[0m\u001b[0;34m)\u001b[0m\u001b[0;34m\u001b[0m\u001b[0;34m\u001b[0m\u001b[0m\n",
            "\u001b[0;32m/usr/local/lib/python3.6/dist-packages/keras/engine/training.py\u001b[0m in \u001b[0;36mtrain_on_batch\u001b[0;34m(self, x, y, sample_weight, class_weight, reset_metrics)\u001b[0m\n\u001b[1;32m   1512\u001b[0m             \u001b[0mins\u001b[0m \u001b[0;34m=\u001b[0m \u001b[0mx\u001b[0m \u001b[0;34m+\u001b[0m \u001b[0my\u001b[0m \u001b[0;34m+\u001b[0m \u001b[0msample_weights\u001b[0m\u001b[0;34m\u001b[0m\u001b[0;34m\u001b[0m\u001b[0m\n\u001b[1;32m   1513\u001b[0m         \u001b[0mself\u001b[0m\u001b[0;34m.\u001b[0m\u001b[0m_make_train_function\u001b[0m\u001b[0;34m(\u001b[0m\u001b[0;34m)\u001b[0m\u001b[0;34m\u001b[0m\u001b[0;34m\u001b[0m\u001b[0m\n\u001b[0;32m-> 1514\u001b[0;31m         \u001b[0moutputs\u001b[0m \u001b[0;34m=\u001b[0m \u001b[0mself\u001b[0m\u001b[0;34m.\u001b[0m\u001b[0mtrain_function\u001b[0m\u001b[0;34m(\u001b[0m\u001b[0mins\u001b[0m\u001b[0;34m)\u001b[0m\u001b[0;34m\u001b[0m\u001b[0;34m\u001b[0m\u001b[0m\n\u001b[0m\u001b[1;32m   1515\u001b[0m \u001b[0;34m\u001b[0m\u001b[0m\n\u001b[1;32m   1516\u001b[0m         \u001b[0;32mif\u001b[0m \u001b[0mreset_metrics\u001b[0m\u001b[0;34m:\u001b[0m\u001b[0;34m\u001b[0m\u001b[0;34m\u001b[0m\u001b[0m\n",
            "\u001b[0;32m/usr/local/lib/python3.6/dist-packages/tensorflow/python/keras/backend.py\u001b[0m in \u001b[0;36m__call__\u001b[0;34m(self, inputs)\u001b[0m\n\u001b[1;32m   3790\u001b[0m         \u001b[0mvalue\u001b[0m \u001b[0;34m=\u001b[0m \u001b[0mmath_ops\u001b[0m\u001b[0;34m.\u001b[0m\u001b[0mcast\u001b[0m\u001b[0;34m(\u001b[0m\u001b[0mvalue\u001b[0m\u001b[0;34m,\u001b[0m \u001b[0mtensor\u001b[0m\u001b[0;34m.\u001b[0m\u001b[0mdtype\u001b[0m\u001b[0;34m)\u001b[0m\u001b[0;34m\u001b[0m\u001b[0;34m\u001b[0m\u001b[0m\n\u001b[1;32m   3791\u001b[0m       \u001b[0mconverted_inputs\u001b[0m\u001b[0;34m.\u001b[0m\u001b[0mappend\u001b[0m\u001b[0;34m(\u001b[0m\u001b[0mvalue\u001b[0m\u001b[0;34m)\u001b[0m\u001b[0;34m\u001b[0m\u001b[0;34m\u001b[0m\u001b[0m\n\u001b[0;32m-> 3792\u001b[0;31m     \u001b[0moutputs\u001b[0m \u001b[0;34m=\u001b[0m \u001b[0mself\u001b[0m\u001b[0;34m.\u001b[0m\u001b[0m_graph_fn\u001b[0m\u001b[0;34m(\u001b[0m\u001b[0;34m*\u001b[0m\u001b[0mconverted_inputs\u001b[0m\u001b[0;34m)\u001b[0m\u001b[0;34m\u001b[0m\u001b[0;34m\u001b[0m\u001b[0m\n\u001b[0m\u001b[1;32m   3793\u001b[0m \u001b[0;34m\u001b[0m\u001b[0m\n\u001b[1;32m   3794\u001b[0m     \u001b[0;31m# EagerTensor.numpy() will often make a copy to ensure memory safety.\u001b[0m\u001b[0;34m\u001b[0m\u001b[0;34m\u001b[0m\u001b[0;34m\u001b[0m\u001b[0m\n",
            "\u001b[0;32m/usr/local/lib/python3.6/dist-packages/tensorflow/python/eager/function.py\u001b[0m in \u001b[0;36m__call__\u001b[0;34m(self, *args, **kwargs)\u001b[0m\n\u001b[1;32m   1603\u001b[0m       \u001b[0mTypeError\u001b[0m\u001b[0;34m:\u001b[0m \u001b[0mFor\u001b[0m \u001b[0minvalid\u001b[0m \u001b[0mpositional\u001b[0m\u001b[0;34m/\u001b[0m\u001b[0mkeyword\u001b[0m \u001b[0margument\u001b[0m \u001b[0mcombinations\u001b[0m\u001b[0;34m.\u001b[0m\u001b[0;34m\u001b[0m\u001b[0;34m\u001b[0m\u001b[0m\n\u001b[1;32m   1604\u001b[0m     \"\"\"\n\u001b[0;32m-> 1605\u001b[0;31m     \u001b[0;32mreturn\u001b[0m \u001b[0mself\u001b[0m\u001b[0;34m.\u001b[0m\u001b[0m_call_impl\u001b[0m\u001b[0;34m(\u001b[0m\u001b[0margs\u001b[0m\u001b[0;34m,\u001b[0m \u001b[0mkwargs\u001b[0m\u001b[0;34m)\u001b[0m\u001b[0;34m\u001b[0m\u001b[0;34m\u001b[0m\u001b[0m\n\u001b[0m\u001b[1;32m   1606\u001b[0m \u001b[0;34m\u001b[0m\u001b[0m\n\u001b[1;32m   1607\u001b[0m   \u001b[0;32mdef\u001b[0m \u001b[0m_call_impl\u001b[0m\u001b[0;34m(\u001b[0m\u001b[0mself\u001b[0m\u001b[0;34m,\u001b[0m \u001b[0margs\u001b[0m\u001b[0;34m,\u001b[0m \u001b[0mkwargs\u001b[0m\u001b[0;34m,\u001b[0m \u001b[0mcancellation_manager\u001b[0m\u001b[0;34m=\u001b[0m\u001b[0;32mNone\u001b[0m\u001b[0;34m)\u001b[0m\u001b[0;34m:\u001b[0m\u001b[0;34m\u001b[0m\u001b[0;34m\u001b[0m\u001b[0m\n",
            "\u001b[0;32m/usr/local/lib/python3.6/dist-packages/tensorflow/python/eager/function.py\u001b[0m in \u001b[0;36m_call_impl\u001b[0;34m(self, args, kwargs, cancellation_manager)\u001b[0m\n\u001b[1;32m   1643\u001b[0m       raise TypeError(\"Keyword arguments {} unknown. Expected {}.\".format(\n\u001b[1;32m   1644\u001b[0m           list(kwargs.keys()), list(self._arg_keywords)))\n\u001b[0;32m-> 1645\u001b[0;31m     \u001b[0;32mreturn\u001b[0m \u001b[0mself\u001b[0m\u001b[0;34m.\u001b[0m\u001b[0m_call_flat\u001b[0m\u001b[0;34m(\u001b[0m\u001b[0margs\u001b[0m\u001b[0;34m,\u001b[0m \u001b[0mself\u001b[0m\u001b[0;34m.\u001b[0m\u001b[0mcaptured_inputs\u001b[0m\u001b[0;34m,\u001b[0m \u001b[0mcancellation_manager\u001b[0m\u001b[0;34m)\u001b[0m\u001b[0;34m\u001b[0m\u001b[0;34m\u001b[0m\u001b[0m\n\u001b[0m\u001b[1;32m   1646\u001b[0m \u001b[0;34m\u001b[0m\u001b[0m\n\u001b[1;32m   1647\u001b[0m   \u001b[0;32mdef\u001b[0m \u001b[0m_filtered_call\u001b[0m\u001b[0;34m(\u001b[0m\u001b[0mself\u001b[0m\u001b[0;34m,\u001b[0m \u001b[0margs\u001b[0m\u001b[0;34m,\u001b[0m \u001b[0mkwargs\u001b[0m\u001b[0;34m)\u001b[0m\u001b[0;34m:\u001b[0m\u001b[0;34m\u001b[0m\u001b[0;34m\u001b[0m\u001b[0m\n",
            "\u001b[0;32m/usr/local/lib/python3.6/dist-packages/tensorflow/python/eager/function.py\u001b[0m in \u001b[0;36m_call_flat\u001b[0;34m(self, args, captured_inputs, cancellation_manager)\u001b[0m\n\u001b[1;32m   1744\u001b[0m       \u001b[0;31m# No tape is watching; skip to running the function.\u001b[0m\u001b[0;34m\u001b[0m\u001b[0;34m\u001b[0m\u001b[0;34m\u001b[0m\u001b[0m\n\u001b[1;32m   1745\u001b[0m       return self._build_call_outputs(self._inference_function.call(\n\u001b[0;32m-> 1746\u001b[0;31m           ctx, args, cancellation_manager=cancellation_manager))\n\u001b[0m\u001b[1;32m   1747\u001b[0m     forward_backward = self._select_forward_and_backward_functions(\n\u001b[1;32m   1748\u001b[0m         \u001b[0margs\u001b[0m\u001b[0;34m,\u001b[0m\u001b[0;34m\u001b[0m\u001b[0;34m\u001b[0m\u001b[0m\n",
            "\u001b[0;32m/usr/local/lib/python3.6/dist-packages/tensorflow/python/eager/function.py\u001b[0m in \u001b[0;36mcall\u001b[0;34m(self, ctx, args, cancellation_manager)\u001b[0m\n\u001b[1;32m    596\u001b[0m               \u001b[0minputs\u001b[0m\u001b[0;34m=\u001b[0m\u001b[0margs\u001b[0m\u001b[0;34m,\u001b[0m\u001b[0;34m\u001b[0m\u001b[0;34m\u001b[0m\u001b[0m\n\u001b[1;32m    597\u001b[0m               \u001b[0mattrs\u001b[0m\u001b[0;34m=\u001b[0m\u001b[0mattrs\u001b[0m\u001b[0;34m,\u001b[0m\u001b[0;34m\u001b[0m\u001b[0;34m\u001b[0m\u001b[0m\n\u001b[0;32m--> 598\u001b[0;31m               ctx=ctx)\n\u001b[0m\u001b[1;32m    599\u001b[0m         \u001b[0;32melse\u001b[0m\u001b[0;34m:\u001b[0m\u001b[0;34m\u001b[0m\u001b[0;34m\u001b[0m\u001b[0m\n\u001b[1;32m    600\u001b[0m           outputs = execute.execute_with_cancellation(\n",
            "\u001b[0;32m/usr/local/lib/python3.6/dist-packages/tensorflow/python/eager/execute.py\u001b[0m in \u001b[0;36mquick_execute\u001b[0;34m(op_name, num_outputs, inputs, attrs, ctx, name)\u001b[0m\n\u001b[1;32m     58\u001b[0m     \u001b[0mctx\u001b[0m\u001b[0;34m.\u001b[0m\u001b[0mensure_initialized\u001b[0m\u001b[0;34m(\u001b[0m\u001b[0;34m)\u001b[0m\u001b[0;34m\u001b[0m\u001b[0;34m\u001b[0m\u001b[0m\n\u001b[1;32m     59\u001b[0m     tensors = pywrap_tfe.TFE_Py_Execute(ctx._handle, device_name, op_name,\n\u001b[0;32m---> 60\u001b[0;31m                                         inputs, attrs, num_outputs)\n\u001b[0m\u001b[1;32m     61\u001b[0m   \u001b[0;32mexcept\u001b[0m \u001b[0mcore\u001b[0m\u001b[0;34m.\u001b[0m\u001b[0m_NotOkStatusException\u001b[0m \u001b[0;32mas\u001b[0m \u001b[0me\u001b[0m\u001b[0;34m:\u001b[0m\u001b[0;34m\u001b[0m\u001b[0;34m\u001b[0m\u001b[0m\n\u001b[1;32m     62\u001b[0m     \u001b[0;32mif\u001b[0m \u001b[0mname\u001b[0m \u001b[0;32mis\u001b[0m \u001b[0;32mnot\u001b[0m \u001b[0;32mNone\u001b[0m\u001b[0;34m:\u001b[0m\u001b[0;34m\u001b[0m\u001b[0;34m\u001b[0m\u001b[0m\n",
            "\u001b[0;31mKeyboardInterrupt\u001b[0m: "
          ]
        }
      ]
    },
    {
      "cell_type": "code",
      "metadata": {
        "id": "1RbqYOcb4gXM",
        "colab_type": "code",
        "colab": {}
      },
      "source": [
        "model.save('temp_model.h5')"
      ],
      "execution_count": 0,
      "outputs": []
    },
    {
      "cell_type": "code",
      "metadata": {
        "id": "H7TIzPom3UGo",
        "colab_type": "code",
        "outputId": "30ea282b-abc1-4009-ef8e-e5fd0788ba3b",
        "colab": {
          "base_uri": "https://localhost:8080/",
          "height": 169
        }
      },
      "source": [
        "plt.plot(hist.history['val_accuracy'])"
      ],
      "execution_count": 88,
      "outputs": [
        {
          "output_type": "error",
          "ename": "NameError",
          "evalue": "ignored",
          "traceback": [
            "\u001b[0;31m---------------------------------------------------------------------------\u001b[0m",
            "\u001b[0;31mNameError\u001b[0m                                 Traceback (most recent call last)",
            "\u001b[0;32m<ipython-input-88-0f83bfd2217b>\u001b[0m in \u001b[0;36m<module>\u001b[0;34m()\u001b[0m\n\u001b[0;32m----> 1\u001b[0;31m \u001b[0mplt\u001b[0m\u001b[0;34m.\u001b[0m\u001b[0mplot\u001b[0m\u001b[0;34m(\u001b[0m\u001b[0mhist\u001b[0m\u001b[0;34m.\u001b[0m\u001b[0mhistory\u001b[0m\u001b[0;34m[\u001b[0m\u001b[0;34m'val_accuracy'\u001b[0m\u001b[0;34m]\u001b[0m\u001b[0;34m)\u001b[0m\u001b[0;34m\u001b[0m\u001b[0;34m\u001b[0m\u001b[0m\n\u001b[0m",
            "\u001b[0;31mNameError\u001b[0m: name 'hist' is not defined"
          ]
        }
      ]
    },
    {
      "cell_type": "code",
      "metadata": {
        "id": "mBCuegh76dyd",
        "colab_type": "code",
        "colab": {
          "base_uri": "https://localhost:8080/",
          "height": 52
        },
        "outputId": "51a08226-cc6e-4af0-d997-899c73b12662"
      },
      "source": [
        "model.load_weights('model.weights.best.hdf5')\n",
        "score = model.evaluate(x_test, y_test_categorical, verbose=1)\n",
        "score\n"
      ],
      "execution_count": 90,
      "outputs": [
        {
          "output_type": "stream",
          "text": [
            "26032/26032 [==============================] - 9s 364us/step\n"
          ],
          "name": "stdout"
        },
        {
          "output_type": "execute_result",
          "data": {
            "text/plain": [
              "[0.2792073027187868, 0.9326213598251343]"
            ]
          },
          "metadata": {
            "tags": []
          },
          "execution_count": 90
        }
      ]
    },
    {
      "cell_type": "code",
      "metadata": {
        "id": "8-WIpfqZNhva",
        "colab_type": "code",
        "colab": {}
      },
      "source": [
        "\n"
      ],
      "execution_count": 0,
      "outputs": []
    }
  ]
}